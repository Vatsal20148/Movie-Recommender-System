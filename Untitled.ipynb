{
 "cells": [
  {
   "cell_type": "markdown",
   "id": "c4aa344f",
   "metadata": {},
   "source": [
    "Importing the necessary libraries:\n"
   ]
  },
  {
   "cell_type": "code",
   "execution_count": 15,
   "id": "0dc44f8f",
   "metadata": {},
   "outputs": [],
   "source": [
    "import numpy as np\n",
    "import pandas as pd"
   ]
  },
  {
   "cell_type": "markdown",
   "id": "1bc1c233",
   "metadata": {},
   "source": [
    "Reading the data and getting its first 5 elements."
   ]
  },
  {
   "cell_type": "code",
   "execution_count": 16,
   "id": "f43a75f3",
   "metadata": {},
   "outputs": [
    {
     "data": {
      "text/html": [
       "<div>\n",
       "<style scoped>\n",
       "    .dataframe tbody tr th:only-of-type {\n",
       "        vertical-align: middle;\n",
       "    }\n",
       "\n",
       "    .dataframe tbody tr th {\n",
       "        vertical-align: top;\n",
       "    }\n",
       "\n",
       "    .dataframe thead th {\n",
       "        text-align: right;\n",
       "    }\n",
       "</style>\n",
       "<table border=\"1\" class=\"dataframe\">\n",
       "  <thead>\n",
       "    <tr style=\"text-align: right;\">\n",
       "      <th></th>\n",
       "      <th>id</th>\n",
       "      <th>url</th>\n",
       "      <th>Name</th>\n",
       "      <th>PosterLink</th>\n",
       "      <th>Genres</th>\n",
       "      <th>Actors</th>\n",
       "      <th>Director</th>\n",
       "      <th>Description</th>\n",
       "      <th>DatePublished</th>\n",
       "      <th>Keywords</th>\n",
       "      <th>RatingCount</th>\n",
       "      <th>BestRating</th>\n",
       "      <th>WorstRating</th>\n",
       "      <th>RatingValue</th>\n",
       "      <th>ReviewAurthor</th>\n",
       "      <th>ReviewDate</th>\n",
       "      <th>ReviewBody</th>\n",
       "      <th>duration</th>\n",
       "    </tr>\n",
       "  </thead>\n",
       "  <tbody>\n",
       "    <tr>\n",
       "      <th>0</th>\n",
       "      <td>0</td>\n",
       "      <td>https://www.imdb.com/title/tt0218388/</td>\n",
       "      <td>Larry David: Curb Your Enthusiasm</td>\n",
       "      <td>https://m.media-amazon.com/images/M/MV5BYTRkMz...</td>\n",
       "      <td>Comedy</td>\n",
       "      <td>Jason Alexander,Larry Charles,Carol Leifer,Ric...</td>\n",
       "      <td>Robert B. Weide</td>\n",
       "      <td>Larry David: Curb Your Enthusiasm is a TV movi...</td>\n",
       "      <td>1999-10-17</td>\n",
       "      <td>man wears eyeglasses,mockumentary,fake documen...</td>\n",
       "      <td>4040.0</td>\n",
       "      <td>10.0</td>\n",
       "      <td>1.0</td>\n",
       "      <td>8.4</td>\n",
       "      <td>Quinoa1984</td>\n",
       "      <td>2006-05-21</td>\n",
       "      <td>The original pilot of Curb Your Enthusiasm, wh...</td>\n",
       "      <td>59M</td>\n",
       "    </tr>\n",
       "    <tr>\n",
       "      <th>1</th>\n",
       "      <td>1</td>\n",
       "      <td>https://www.imdb.com/title/tt0162677/</td>\n",
       "      <td>Summer of Sam</td>\n",
       "      <td>https://m.media-amazon.com/images/M/MV5BNjdjMD...</td>\n",
       "      <td>Crime,Drama,Romance,Thriller</td>\n",
       "      <td>John Leguizamo,Adrien Brody,Mira Sorvino,Jenni...</td>\n",
       "      <td>Spike Lee</td>\n",
       "      <td>Summer of Sam is a movie starring John Leguiza...</td>\n",
       "      <td>1999-07-02</td>\n",
       "      <td>punk rocker,woman in pose,movie flop,new york ...</td>\n",
       "      <td>35971.0</td>\n",
       "      <td>10.0</td>\n",
       "      <td>1.0</td>\n",
       "      <td>6.7</td>\n",
       "      <td>guyfromjerzee</td>\n",
       "      <td>2004-08-14</td>\n",
       "      <td>I know I may be one of the three people to say...</td>\n",
       "      <td>2H22M</td>\n",
       "    </tr>\n",
       "    <tr>\n",
       "      <th>2</th>\n",
       "      <td>2</td>\n",
       "      <td>https://www.imdb.com/title/tt0215364/</td>\n",
       "      <td>Wives and Daughters</td>\n",
       "      <td>https://m.media-amazon.com/images/M/MV5BMTI4Mj...</td>\n",
       "      <td>Drama</td>\n",
       "      <td>Francesca Annis,Justine Waddell,Bill Paterson,...</td>\n",
       "      <td>NaN</td>\n",
       "      <td>Wives and Daughters is a TV mini-series starri...</td>\n",
       "      <td>1999-11-28</td>\n",
       "      <td>sister sister relationship,africa,period drama...</td>\n",
       "      <td>6570.0</td>\n",
       "      <td>10.0</td>\n",
       "      <td>1.0</td>\n",
       "      <td>8.1</td>\n",
       "      <td>The_late_Buddy_Ryan</td>\n",
       "      <td>2013-03-31</td>\n",
       "      <td>The BBC version of Elizabeth Gaskell's \"Cranfo...</td>\n",
       "      <td>NaN</td>\n",
       "    </tr>\n",
       "    <tr>\n",
       "      <th>3</th>\n",
       "      <td>3</td>\n",
       "      <td>https://www.imdb.com/title/tt0146675/</td>\n",
       "      <td>End of Days</td>\n",
       "      <td>https://m.media-amazon.com/images/M/MV5BYWM3MT...</td>\n",
       "      <td>Action,Fantasy,Horror,Thriller</td>\n",
       "      <td>Arnold Schwarzenegger,Gabriel Byrne,Robin Tunn...</td>\n",
       "      <td>Peter Hyams</td>\n",
       "      <td>End of Days is a movie starring Arnold Schwarz...</td>\n",
       "      <td>1999-11-24</td>\n",
       "      <td>female nudity,lucifer,female masturbation,new ...</td>\n",
       "      <td>105038.0</td>\n",
       "      <td>10.0</td>\n",
       "      <td>1.0</td>\n",
       "      <td>5.8</td>\n",
       "      <td>ExpendableMan</td>\n",
       "      <td>2005-11-19</td>\n",
       "      <td>Hyped to the heavens when it first came out as...</td>\n",
       "      <td>2H2M</td>\n",
       "    </tr>\n",
       "    <tr>\n",
       "      <th>4</th>\n",
       "      <td>4</td>\n",
       "      <td>https://www.imdb.com/title/tt0172348/</td>\n",
       "      <td>Introducing Dorothy Dandridge</td>\n",
       "      <td>https://m.media-amazon.com/images/M/MV5BZWYxZj...</td>\n",
       "      <td>Biography,Drama,Music,Romance</td>\n",
       "      <td>Halle Berry,Brent Spiner,Klaus Maria Brandauer...</td>\n",
       "      <td>Martha Coolidge</td>\n",
       "      <td>Introducing Dorothy Dandridge is a TV movie st...</td>\n",
       "      <td>1999-08-21</td>\n",
       "      <td>camera shot of feet,tied feet,tied up while ba...</td>\n",
       "      <td>3207.0</td>\n",
       "      <td>10.0</td>\n",
       "      <td>1.0</td>\n",
       "      <td>7.1</td>\n",
       "      <td>MulattaAries2007</td>\n",
       "      <td>2007-05-28</td>\n",
       "      <td>I've been a fan of Dorothy Dandridge for years...</td>\n",
       "      <td>2H</td>\n",
       "    </tr>\n",
       "  </tbody>\n",
       "</table>\n",
       "</div>"
      ],
      "text/plain": [
       "   id                                    url  \\\n",
       "0   0  https://www.imdb.com/title/tt0218388/   \n",
       "1   1  https://www.imdb.com/title/tt0162677/   \n",
       "2   2  https://www.imdb.com/title/tt0215364/   \n",
       "3   3  https://www.imdb.com/title/tt0146675/   \n",
       "4   4  https://www.imdb.com/title/tt0172348/   \n",
       "\n",
       "                                Name  \\\n",
       "0  Larry David: Curb Your Enthusiasm   \n",
       "1                      Summer of Sam   \n",
       "2                Wives and Daughters   \n",
       "3                        End of Days   \n",
       "4      Introducing Dorothy Dandridge   \n",
       "\n",
       "                                          PosterLink  \\\n",
       "0  https://m.media-amazon.com/images/M/MV5BYTRkMz...   \n",
       "1  https://m.media-amazon.com/images/M/MV5BNjdjMD...   \n",
       "2  https://m.media-amazon.com/images/M/MV5BMTI4Mj...   \n",
       "3  https://m.media-amazon.com/images/M/MV5BYWM3MT...   \n",
       "4  https://m.media-amazon.com/images/M/MV5BZWYxZj...   \n",
       "\n",
       "                           Genres  \\\n",
       "0                          Comedy   \n",
       "1    Crime,Drama,Romance,Thriller   \n",
       "2                           Drama   \n",
       "3  Action,Fantasy,Horror,Thriller   \n",
       "4   Biography,Drama,Music,Romance   \n",
       "\n",
       "                                              Actors         Director  \\\n",
       "0  Jason Alexander,Larry Charles,Carol Leifer,Ric...  Robert B. Weide   \n",
       "1  John Leguizamo,Adrien Brody,Mira Sorvino,Jenni...        Spike Lee   \n",
       "2  Francesca Annis,Justine Waddell,Bill Paterson,...              NaN   \n",
       "3  Arnold Schwarzenegger,Gabriel Byrne,Robin Tunn...      Peter Hyams   \n",
       "4  Halle Berry,Brent Spiner,Klaus Maria Brandauer...  Martha Coolidge   \n",
       "\n",
       "                                         Description DatePublished  \\\n",
       "0  Larry David: Curb Your Enthusiasm is a TV movi...    1999-10-17   \n",
       "1  Summer of Sam is a movie starring John Leguiza...    1999-07-02   \n",
       "2  Wives and Daughters is a TV mini-series starri...    1999-11-28   \n",
       "3  End of Days is a movie starring Arnold Schwarz...    1999-11-24   \n",
       "4  Introducing Dorothy Dandridge is a TV movie st...    1999-08-21   \n",
       "\n",
       "                                            Keywords  RatingCount  BestRating  \\\n",
       "0  man wears eyeglasses,mockumentary,fake documen...       4040.0        10.0   \n",
       "1  punk rocker,woman in pose,movie flop,new york ...      35971.0        10.0   \n",
       "2  sister sister relationship,africa,period drama...       6570.0        10.0   \n",
       "3  female nudity,lucifer,female masturbation,new ...     105038.0        10.0   \n",
       "4  camera shot of feet,tied feet,tied up while ba...       3207.0        10.0   \n",
       "\n",
       "   WorstRating  RatingValue        ReviewAurthor  ReviewDate  \\\n",
       "0          1.0          8.4           Quinoa1984  2006-05-21   \n",
       "1          1.0          6.7        guyfromjerzee  2004-08-14   \n",
       "2          1.0          8.1  The_late_Buddy_Ryan  2013-03-31   \n",
       "3          1.0          5.8        ExpendableMan  2005-11-19   \n",
       "4          1.0          7.1     MulattaAries2007  2007-05-28   \n",
       "\n",
       "                                          ReviewBody duration  \n",
       "0  The original pilot of Curb Your Enthusiasm, wh...      59M  \n",
       "1  I know I may be one of the three people to say...    2H22M  \n",
       "2  The BBC version of Elizabeth Gaskell's \"Cranfo...      NaN  \n",
       "3  Hyped to the heavens when it first came out as...     2H2M  \n",
       "4  I've been a fan of Dorothy Dandridge for years...       2H  "
      ]
     },
     "execution_count": 16,
     "metadata": {},
     "output_type": "execute_result"
    }
   ],
   "source": [
    "dataset = pd.read_csv(\"final_data.csv\")\n",
    "dataset.head()"
   ]
  },
  {
   "cell_type": "code",
   "execution_count": 17,
   "id": "397a4596",
   "metadata": {},
   "outputs": [],
   "source": [
    "dataset = dataset.iloc[:8000]\n"
   ]
  },
  {
   "cell_type": "code",
   "execution_count": 20,
   "id": "4e88bcc8",
   "metadata": {},
   "outputs": [],
   "source": [
    "#dataset.shape\n",
    "dataset.dropna(inplace=True)\n",
    "dataset.reset_index(drop=True,inplace=True)"
   ]
  },
  {
   "cell_type": "markdown",
   "id": "1784dbe8",
   "metadata": {},
   "source": [
    "Removing all the unnecessary features from the data and then analysing it."
   ]
  },
  {
   "cell_type": "code",
   "execution_count": 23,
   "id": "892a21da",
   "metadata": {},
   "outputs": [
    {
     "data": {
      "text/html": [
       "<div>\n",
       "<style scoped>\n",
       "    .dataframe tbody tr th:only-of-type {\n",
       "        vertical-align: middle;\n",
       "    }\n",
       "\n",
       "    .dataframe tbody tr th {\n",
       "        vertical-align: top;\n",
       "    }\n",
       "\n",
       "    .dataframe thead th {\n",
       "        text-align: right;\n",
       "    }\n",
       "</style>\n",
       "<table border=\"1\" class=\"dataframe\">\n",
       "  <thead>\n",
       "    <tr style=\"text-align: right;\">\n",
       "      <th></th>\n",
       "      <th>id</th>\n",
       "      <th>Name</th>\n",
       "      <th>PosterLink</th>\n",
       "      <th>Genres</th>\n",
       "      <th>Actors</th>\n",
       "      <th>Director</th>\n",
       "      <th>Keywords</th>\n",
       "    </tr>\n",
       "  </thead>\n",
       "  <tbody>\n",
       "    <tr>\n",
       "      <th>0</th>\n",
       "      <td>0</td>\n",
       "      <td>Larry David: Curb Your Enthusiasm</td>\n",
       "      <td>https://m.media-amazon.com/images/M/MV5BYTRkMz...</td>\n",
       "      <td>Comedy</td>\n",
       "      <td>Jason Alexander,Larry Charles,Carol Leifer,Ric...</td>\n",
       "      <td>Robert B. Weide</td>\n",
       "      <td>man wears eyeglasses,mockumentary,fake documen...</td>\n",
       "    </tr>\n",
       "    <tr>\n",
       "      <th>1</th>\n",
       "      <td>1</td>\n",
       "      <td>Summer of Sam</td>\n",
       "      <td>https://m.media-amazon.com/images/M/MV5BNjdjMD...</td>\n",
       "      <td>Crime,Drama,Romance,Thriller</td>\n",
       "      <td>John Leguizamo,Adrien Brody,Mira Sorvino,Jenni...</td>\n",
       "      <td>Spike Lee</td>\n",
       "      <td>punk rocker,woman in pose,movie flop,new york ...</td>\n",
       "    </tr>\n",
       "    <tr>\n",
       "      <th>2</th>\n",
       "      <td>3</td>\n",
       "      <td>End of Days</td>\n",
       "      <td>https://m.media-amazon.com/images/M/MV5BYWM3MT...</td>\n",
       "      <td>Action,Fantasy,Horror,Thriller</td>\n",
       "      <td>Arnold Schwarzenegger,Gabriel Byrne,Robin Tunn...</td>\n",
       "      <td>Peter Hyams</td>\n",
       "      <td>female nudity,lucifer,female masturbation,new ...</td>\n",
       "    </tr>\n",
       "    <tr>\n",
       "      <th>3</th>\n",
       "      <td>4</td>\n",
       "      <td>Introducing Dorothy Dandridge</td>\n",
       "      <td>https://m.media-amazon.com/images/M/MV5BZWYxZj...</td>\n",
       "      <td>Biography,Drama,Music,Romance</td>\n",
       "      <td>Halle Berry,Brent Spiner,Klaus Maria Brandauer...</td>\n",
       "      <td>Martha Coolidge</td>\n",
       "      <td>camera shot of feet,tied feet,tied up while ba...</td>\n",
       "    </tr>\n",
       "    <tr>\n",
       "      <th>4</th>\n",
       "      <td>5</td>\n",
       "      <td>Hei an zhi guang</td>\n",
       "      <td>https://m.media-amazon.com/images/M/MV5BMzgzYT...</td>\n",
       "      <td>Drama</td>\n",
       "      <td>Kang-i Lee,Ming-shiou Tsai,Bau-huei Shie,Huang...</td>\n",
       "      <td>Tso-chi Chang</td>\n",
       "      <td>blindness,handicap,gangster</td>\n",
       "    </tr>\n",
       "  </tbody>\n",
       "</table>\n",
       "</div>"
      ],
      "text/plain": [
       "   id                               Name  \\\n",
       "0   0  Larry David: Curb Your Enthusiasm   \n",
       "1   1                      Summer of Sam   \n",
       "2   3                        End of Days   \n",
       "3   4      Introducing Dorothy Dandridge   \n",
       "4   5                   Hei an zhi guang   \n",
       "\n",
       "                                          PosterLink  \\\n",
       "0  https://m.media-amazon.com/images/M/MV5BYTRkMz...   \n",
       "1  https://m.media-amazon.com/images/M/MV5BNjdjMD...   \n",
       "2  https://m.media-amazon.com/images/M/MV5BYWM3MT...   \n",
       "3  https://m.media-amazon.com/images/M/MV5BZWYxZj...   \n",
       "4  https://m.media-amazon.com/images/M/MV5BMzgzYT...   \n",
       "\n",
       "                           Genres  \\\n",
       "0                          Comedy   \n",
       "1    Crime,Drama,Romance,Thriller   \n",
       "2  Action,Fantasy,Horror,Thriller   \n",
       "3   Biography,Drama,Music,Romance   \n",
       "4                           Drama   \n",
       "\n",
       "                                              Actors         Director  \\\n",
       "0  Jason Alexander,Larry Charles,Carol Leifer,Ric...  Robert B. Weide   \n",
       "1  John Leguizamo,Adrien Brody,Mira Sorvino,Jenni...        Spike Lee   \n",
       "2  Arnold Schwarzenegger,Gabriel Byrne,Robin Tunn...      Peter Hyams   \n",
       "3  Halle Berry,Brent Spiner,Klaus Maria Brandauer...  Martha Coolidge   \n",
       "4  Kang-i Lee,Ming-shiou Tsai,Bau-huei Shie,Huang...    Tso-chi Chang   \n",
       "\n",
       "                                            Keywords  \n",
       "0  man wears eyeglasses,mockumentary,fake documen...  \n",
       "1  punk rocker,woman in pose,movie flop,new york ...  \n",
       "2  female nudity,lucifer,female masturbation,new ...  \n",
       "3  camera shot of feet,tied feet,tied up while ba...  \n",
       "4                        blindness,handicap,gangster  "
      ]
     },
     "execution_count": 23,
     "metadata": {},
     "output_type": "execute_result"
    }
   ],
   "source": [
    "dataset = dataset[[\"id\",\"Name\",\"PosterLink\",\"Genres\",\"Actors\",\"Director\",\"Keywords\"]]\n",
    "dataset.head()"
   ]
  },
  {
   "cell_type": "markdown",
   "id": "895e9148",
   "metadata": {},
   "source": [
    "We will be combining the Genres, Actors, Director, Keywords features in order to create proper tags for them."
   ]
  },
  {
   "cell_type": "code",
   "execution_count": 24,
   "id": "a95dbd6a",
   "metadata": {},
   "outputs": [],
   "source": [
    "dataset[\"Tags\"] = dataset[\"Genres\"]+\",\"+dataset[\"Actors\"]+\",\"+dataset[\"Director\"]+\",\"+dataset[\"Keywords\"]\n"
   ]
  },
  {
   "cell_type": "code",
   "execution_count": 27,
   "id": "8c12ba81",
   "metadata": {},
   "outputs": [
    {
     "data": {
      "text/plain": [
       "(6844, 8)"
      ]
     },
     "execution_count": 27,
     "metadata": {},
     "output_type": "execute_result"
    }
   ],
   "source": [
    "dataset.shape"
   ]
  },
  {
   "cell_type": "code",
   "execution_count": 28,
   "id": "302734ee",
   "metadata": {},
   "outputs": [],
   "source": [
    "dataset = dataset[[\"id\",\"Name\",\"PosterLink\",\"Tags\"]]"
   ]
  },
  {
   "cell_type": "code",
   "execution_count": 29,
   "id": "0cace13e",
   "metadata": {},
   "outputs": [],
   "source": [
    "import nltk\n",
    "from nltk.stem.porter import PorterStemmer\n",
    "ps = PorterStemmer()"
   ]
  },
  {
   "cell_type": "code",
   "execution_count": 30,
   "id": "00abc7ba",
   "metadata": {},
   "outputs": [],
   "source": [
    "def stem(text):\n",
    "    y = []\n",
    "    for i in text.split():\n",
    "        y.append(ps.stem(i))\n",
    "    return \" \".join(y)"
   ]
  },
  {
   "cell_type": "code",
   "execution_count": 31,
   "id": "b9c7bd66",
   "metadata": {},
   "outputs": [],
   "source": [
    "\n",
    "dataset[\"Tags\"] = dataset[\"Tags\"].str.split(\",\")\n",
    "#dataset[\"Tags\"] = dataset[\"Tags\"].apply(lambda x:[i.replace(\" \",\"\") for i in x])\n",
    "dataset[\"Tags\"] = dataset[\"Tags\"].apply(lambda x:\" \".join(x))\n",
    "dataset[\"Tags\"] = dataset[\"Tags\"].apply(lambda x:x.lower())"
   ]
  },
  {
   "cell_type": "code",
   "execution_count": 32,
   "id": "90a43411",
   "metadata": {},
   "outputs": [
    {
     "data": {
      "text/plain": [
       "0    comedy jason alexander larry charles carol lei...\n",
       "1    crime drama romance thriller john leguizamo ad...\n",
       "2    action fantasy horror thriller arnold schwarze...\n",
       "3    biography drama music romance halle berry bren...\n",
       "4    drama kang-i lee ming-shiou tsai bau-huei shie...\n",
       "Name: Tags, dtype: object"
      ]
     },
     "execution_count": 32,
     "metadata": {},
     "output_type": "execute_result"
    }
   ],
   "source": [
    "dataset[\"Tags\"].head()"
   ]
  },
  {
   "cell_type": "code",
   "execution_count": 33,
   "id": "05bae051",
   "metadata": {},
   "outputs": [
    {
     "name": "stdout",
     "output_type": "stream",
     "text": [
      "comedi jason alexand larri charl carol leifer richard lewi robert b. weid man wear eyeglass mockumentari fake documentari charact name in titl\n",
      "crime drama romanc thriller john leguizamo adrien brodi mira sorvino jennif esposito spike lee punk rocker woman in pose movi flop new york citi neighborhood\n"
     ]
    }
   ],
   "source": [
    "dataset[\"Tags\"] = dataset[\"Tags\"].apply(stem)\n",
    "print(dataset[\"Tags\"][0])\n",
    "print(dataset[\"Tags\"][1])"
   ]
  },
  {
   "cell_type": "code",
   "execution_count": null,
   "id": "f62d106d",
   "metadata": {},
   "outputs": [],
   "source": [
    "from sklearn.feature_extraction.text import CountVectorizer\n",
    "cv = CountVectorizer(max_features=5000,stop_words=\"english\")\n",
    "vectors = cv.fit_transform(dataset[\"Tags\"]).toarray()\n"
   ]
  },
  {
   "cell_type": "code",
   "execution_count": 37,
   "id": "8699b14b",
   "metadata": {},
   "outputs": [
    {
     "data": {
      "text/plain": [
       "array(['007', '13', '16th', ..., 'éric', 'étaix', 'ôshima'], dtype=object)"
      ]
     },
     "execution_count": 37,
     "metadata": {},
     "output_type": "execute_result"
    }
   ],
   "source": [
    "cv.get_feature_names_out()"
   ]
  },
  {
   "cell_type": "code",
   "execution_count": 38,
   "id": "18f8646b",
   "metadata": {},
   "outputs": [],
   "source": [
    "from sklearn.metrics.pairwise import cosine_similarity\n"
   ]
  },
  {
   "cell_type": "code",
   "execution_count": 39,
   "id": "3405ac06",
   "metadata": {},
   "outputs": [
    {
     "data": {
      "text/plain": [
       "array([[1.        , 0.        , 0.        , ..., 0.04950738, 0.        ,\n",
       "        0.046676  ],\n",
       "       [0.        , 1.        , 0.18609684, ..., 0.        , 0.        ,\n",
       "        0.08399211],\n",
       "       [0.        , 0.18609684, 1.        , ..., 0.        , 0.32566947,\n",
       "        0.08206099],\n",
       "       ...,\n",
       "       [0.04950738, 0.        , 0.        , ..., 1.        , 0.        ,\n",
       "        0.03928371],\n",
       "       [0.        , 0.        , 0.32566947, ..., 0.        , 1.        ,\n",
       "        0.08399211],\n",
       "       [0.046676  , 0.08399211, 0.08206099, ..., 0.03928371, 0.08399211,\n",
       "        1.        ]])"
      ]
     },
     "execution_count": 39,
     "metadata": {},
     "output_type": "execute_result"
    }
   ],
   "source": [
    "similarity = cosine_similarity(vectors)\n",
    "similarity\n",
    "#similarity[0]"
   ]
  },
  {
   "cell_type": "code",
   "execution_count": 46,
   "id": "0f4530ce",
   "metadata": {},
   "outputs": [],
   "source": [
    "def show_movies(movie):\n",
    "    movie_index = dataset[dataset[\"Name\"]==movie].index[0]\n",
    "    print(movie_index)\n",
    "    distance = similarity[movie_index]\n",
    "    \n",
    "    movie_list = sorted(list(enumerate(distance)),reverse=True,key=lambda x:x[1])[1:11]\n",
    "    \n",
    "    for i in movie_list:\n",
    "        print(dataset.iloc[i[0]].Name)\n",
    "        "
   ]
  },
  {
   "cell_type": "code",
   "execution_count": null,
   "id": "3a0537de",
   "metadata": {},
   "outputs": [],
   "source": [
    "inp = input()\n",
    "show_movies(inp)"
   ]
  },
  {
   "cell_type": "code",
   "execution_count": 47,
   "id": "51355001",
   "metadata": {},
   "outputs": [
    {
     "name": "stdout",
     "output_type": "stream",
     "text": [
      "(1,)\n",
      "Out for Justice\n",
      "King of the Jungle\n",
      "It's All About Love\n",
      "Desirable\n",
      "Last Exit to Brooklyn\n",
      "Remember Me\n",
      "The Park Is Mine\n",
      "Jungle Fever\n",
      "Le gendarme à New York\n",
      "Picture Perfect\n"
     ]
    }
   ],
   "source": [
    "show_movies(\"Summer of Sam\")"
   ]
  },
  {
   "cell_type": "code",
   "execution_count": 256,
   "id": "2c21e5f8",
   "metadata": {},
   "outputs": [],
   "source": [
    "import pickle\n",
    "pickle.dump(dataset,open(\"movies.pkl\",\"wb\"))"
   ]
  },
  {
   "cell_type": "code",
   "execution_count": 257,
   "id": "2c1c35e1",
   "metadata": {},
   "outputs": [],
   "source": [
    "pickle.dump(dataset.to_dict(),open(\"movies_dict.pkl\",\"wb\"))"
   ]
  },
  {
   "cell_type": "code",
   "execution_count": 258,
   "id": "5b53c58a",
   "metadata": {},
   "outputs": [],
   "source": [
    "pickle.dump(similarity,open(\"similarity.pkl\",\"wb\"))"
   ]
  },
  {
   "cell_type": "code",
   "execution_count": null,
   "id": "b72330f0",
   "metadata": {},
   "outputs": [],
   "source": []
  }
 ],
 "metadata": {
  "kernelspec": {
   "display_name": "Python 3 (ipykernel)",
   "language": "python",
   "name": "python3"
  },
  "language_info": {
   "codemirror_mode": {
    "name": "ipython",
    "version": 3
   },
   "file_extension": ".py",
   "mimetype": "text/x-python",
   "name": "python",
   "nbconvert_exporter": "python",
   "pygments_lexer": "ipython3",
   "version": "3.9.12"
  }
 },
 "nbformat": 4,
 "nbformat_minor": 5
}
